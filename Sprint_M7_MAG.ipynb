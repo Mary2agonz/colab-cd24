{
  "nbformat": 4,
  "nbformat_minor": 0,
  "metadata": {
    "colab": {
      "provenance": [],
      "authorship_tag": "ABX9TyM+VMxG2JJ3i7EgYFjfvWkE",
      "include_colab_link": true
    },
    "kernelspec": {
      "name": "python3",
      "display_name": "Python 3"
    },
    "language_info": {
      "name": "python"
    }
  },
  "cells": [
    {
      "cell_type": "markdown",
      "metadata": {
        "id": "view-in-github",
        "colab_type": "text"
      },
      "source": [
        "<a href=\"https://colab.research.google.com/github/Mary2agonz/colab-cd24/blob/main/Sprint_M7_MAG.ipynb\" target=\"_parent\"><img src=\"https://colab.research.google.com/assets/colab-badge.svg\" alt=\"Open In Colab\"/></a>"
      ]
    },
    {
      "cell_type": "markdown",
      "source": [
        "# **Sprint Módulo 7**\n",
        "\n",
        "Estudiante:\n",
        "\n",
        "Marilyn Aguilar González\n",
        "\n",
        "\n",
        "enlace github: https://github.com/Mary2agonz/colab-cd24/blob/main/Sprint_M7_MAG.ipynb\n",
        "\n",
        "-------------------------------------------------------------------\n",
        "**Objetivo del proyecto**:\n",
        "\n",
        "Elaborar un modelo predictivo aplicando redes neuronales y utilizando lenguaje Python para resolver un problema\n"
      ],
      "metadata": {
        "id": "AUDP_938nlWY"
      }
    },
    {
      "cell_type": "markdown",
      "source": [
        "Adjunto encontrará la base de datos y los detalles del set de datos.\n",
        "\n",
        "Para este ejercicio usted debe:\n",
        "1. Defina el modelo de Keras.\n",
        "2. Compile el modelo de Keras.\n",
        "3. Compatible con el modelo Keras.\n",
        "4. Evalúe el modelo de Keras.\n",
        "5. Juntelo todo junto.\n",
        "6. Hacer predicciones y conclusiones.\n",
        "\n",
        "Recuerde que debe tener instalado:\n",
        "* Tiene SciPy (incluido NumPy) instalado y configurado.\n",
        "* Tiene Keras y un backend (Theano o TensorFlow) instalado y configurado."
      ],
      "metadata": {
        "id": "j48quQ_AD2D7"
      }
    },
    {
      "cell_type": "code",
      "source": [
        "#Primero me aseguro que tengo instalado scipy en mi entorno de trabajo (en este caso colab)\n",
        "!pip install scipy\n",
        "import scipy"
      ],
      "metadata": {
        "colab": {
          "base_uri": "https://localhost:8080/"
        },
        "id": "xUXXRoh5GR-F",
        "outputId": "4f01259a-bd1c-4a7b-b957-c33343f43d31"
      },
      "execution_count": 2,
      "outputs": [
        {
          "output_type": "stream",
          "name": "stdout",
          "text": [
            "Requirement already satisfied: scipy in /usr/local/lib/python3.10/dist-packages (1.11.4)\n",
            "Requirement already satisfied: numpy<1.28.0,>=1.21.6 in /usr/local/lib/python3.10/dist-packages (from scipy) (1.25.2)\n"
          ]
        }
      ]
    },
    {
      "cell_type": "code",
      "source": [
        "#Ahora importo todas las librerías necesarias incluido lo referido a keras y tensorflow\n",
        "import pandas as pd\n",
        "import numpy as np\n",
        "from sklearn.model_selection import train_test_split\n",
        "from sklearn.preprocessing import StandardScaler\n",
        "import tensorflow as tf\n",
        "from tensorflow.keras import layers, models"
      ],
      "metadata": {
        "id": "t0f0Srz3GsN0"
      },
      "execution_count": 21,
      "outputs": []
    },
    {
      "cell_type": "code",
      "source": [
        "#Cargo mis datos desde el link drive\n",
        "link = \"https://drive.google.com/uc?id=1ADiVByjltxdrlZwf8QlsMomRyLIoY9oh\"\n",
        "#Los nombres originales se encuentran en un archivo aparte con la siguiente descripción en orden de colmnas:\n",
        "#1. Number of times pregnant\n",
        "#2. Plasma glucose concentration a 2 hours in an oral glucose tolerance test\n",
        "#3. Diastolic blood pressure (mm Hg)\n",
        "#4. Triceps skin fold thickness (mm)\n",
        "#5. 2-Hour serum insulin (mu U/ml)\n",
        "#6. Body mass index (weight in kg/(height in m)^2)\n",
        "#7. Diabetes pedigree function\n",
        "#8. Age (years)\n",
        "#9. Class variable (0 or 1)\n",
        "\n",
        "#creo agregar los nombres de cada columna creo la siguiente lista y simplifico los nombres\n",
        "column_names = [\"N_pregnant\",\n",
        "                \"Plasma_glucose_test\",\n",
        "                \"Diastolic_blood_pressure\",\n",
        "                \"Triceps_skin_mm\",\n",
        "                \"Insulin_test\",\n",
        "                \"IMC\",\n",
        "                \"Diabetes_pedigree\",\n",
        "                \"Age\",\n",
        "                \"Class_variable\"\n",
        "]\n",
        "\n",
        "#Creo el df con los datos desde el link y los nombres de columnas antes definidos\n",
        "df = pd.read_csv(link, names=column_names)\n",
        "\n",
        "#Verifico que el df se haya creado correctamente\n",
        "display(df.head())\n"
      ],
      "metadata": {
        "colab": {
          "base_uri": "https://localhost:8080/",
          "height": 226
        },
        "id": "js4RM1FKD1wD",
        "outputId": "badfa3fb-e2e5-437d-f6d9-7e6f34a5c8a6"
      },
      "execution_count": 22,
      "outputs": [
        {
          "output_type": "display_data",
          "data": {
            "text/plain": [
              "   N_pregnant  Plasma_glucose_test  Diastolic_blood_pressure  Triceps_skin_mm  \\\n",
              "0           6                  148                        72               35   \n",
              "1           1                   85                        66               29   \n",
              "2           8                  183                        64                0   \n",
              "3           1                   89                        66               23   \n",
              "4           0                  137                        40               35   \n",
              "\n",
              "   Insulin_test   IMC  Diabetes_pedigree  Age  Class_variable  \n",
              "0             0  33.6              0.627   50               1  \n",
              "1             0  26.6              0.351   31               0  \n",
              "2             0  23.3              0.672   32               1  \n",
              "3            94  28.1              0.167   21               0  \n",
              "4           168  43.1              2.288   33               1  "
            ],
            "text/html": [
              "\n",
              "  <div id=\"df-ca3771bf-c5d1-4f5c-b3d4-ec60060194f4\" class=\"colab-df-container\">\n",
              "    <div>\n",
              "<style scoped>\n",
              "    .dataframe tbody tr th:only-of-type {\n",
              "        vertical-align: middle;\n",
              "    }\n",
              "\n",
              "    .dataframe tbody tr th {\n",
              "        vertical-align: top;\n",
              "    }\n",
              "\n",
              "    .dataframe thead th {\n",
              "        text-align: right;\n",
              "    }\n",
              "</style>\n",
              "<table border=\"1\" class=\"dataframe\">\n",
              "  <thead>\n",
              "    <tr style=\"text-align: right;\">\n",
              "      <th></th>\n",
              "      <th>N_pregnant</th>\n",
              "      <th>Plasma_glucose_test</th>\n",
              "      <th>Diastolic_blood_pressure</th>\n",
              "      <th>Triceps_skin_mm</th>\n",
              "      <th>Insulin_test</th>\n",
              "      <th>IMC</th>\n",
              "      <th>Diabetes_pedigree</th>\n",
              "      <th>Age</th>\n",
              "      <th>Class_variable</th>\n",
              "    </tr>\n",
              "  </thead>\n",
              "  <tbody>\n",
              "    <tr>\n",
              "      <th>0</th>\n",
              "      <td>6</td>\n",
              "      <td>148</td>\n",
              "      <td>72</td>\n",
              "      <td>35</td>\n",
              "      <td>0</td>\n",
              "      <td>33.6</td>\n",
              "      <td>0.627</td>\n",
              "      <td>50</td>\n",
              "      <td>1</td>\n",
              "    </tr>\n",
              "    <tr>\n",
              "      <th>1</th>\n",
              "      <td>1</td>\n",
              "      <td>85</td>\n",
              "      <td>66</td>\n",
              "      <td>29</td>\n",
              "      <td>0</td>\n",
              "      <td>26.6</td>\n",
              "      <td>0.351</td>\n",
              "      <td>31</td>\n",
              "      <td>0</td>\n",
              "    </tr>\n",
              "    <tr>\n",
              "      <th>2</th>\n",
              "      <td>8</td>\n",
              "      <td>183</td>\n",
              "      <td>64</td>\n",
              "      <td>0</td>\n",
              "      <td>0</td>\n",
              "      <td>23.3</td>\n",
              "      <td>0.672</td>\n",
              "      <td>32</td>\n",
              "      <td>1</td>\n",
              "    </tr>\n",
              "    <tr>\n",
              "      <th>3</th>\n",
              "      <td>1</td>\n",
              "      <td>89</td>\n",
              "      <td>66</td>\n",
              "      <td>23</td>\n",
              "      <td>94</td>\n",
              "      <td>28.1</td>\n",
              "      <td>0.167</td>\n",
              "      <td>21</td>\n",
              "      <td>0</td>\n",
              "    </tr>\n",
              "    <tr>\n",
              "      <th>4</th>\n",
              "      <td>0</td>\n",
              "      <td>137</td>\n",
              "      <td>40</td>\n",
              "      <td>35</td>\n",
              "      <td>168</td>\n",
              "      <td>43.1</td>\n",
              "      <td>2.288</td>\n",
              "      <td>33</td>\n",
              "      <td>1</td>\n",
              "    </tr>\n",
              "  </tbody>\n",
              "</table>\n",
              "</div>\n",
              "    <div class=\"colab-df-buttons\">\n",
              "\n",
              "  <div class=\"colab-df-container\">\n",
              "    <button class=\"colab-df-convert\" onclick=\"convertToInteractive('df-ca3771bf-c5d1-4f5c-b3d4-ec60060194f4')\"\n",
              "            title=\"Convert this dataframe to an interactive table.\"\n",
              "            style=\"display:none;\">\n",
              "\n",
              "  <svg xmlns=\"http://www.w3.org/2000/svg\" height=\"24px\" viewBox=\"0 -960 960 960\">\n",
              "    <path d=\"M120-120v-720h720v720H120Zm60-500h600v-160H180v160Zm220 220h160v-160H400v160Zm0 220h160v-160H400v160ZM180-400h160v-160H180v160Zm440 0h160v-160H620v160ZM180-180h160v-160H180v160Zm440 0h160v-160H620v160Z\"/>\n",
              "  </svg>\n",
              "    </button>\n",
              "\n",
              "  <style>\n",
              "    .colab-df-container {\n",
              "      display:flex;\n",
              "      gap: 12px;\n",
              "    }\n",
              "\n",
              "    .colab-df-convert {\n",
              "      background-color: #E8F0FE;\n",
              "      border: none;\n",
              "      border-radius: 50%;\n",
              "      cursor: pointer;\n",
              "      display: none;\n",
              "      fill: #1967D2;\n",
              "      height: 32px;\n",
              "      padding: 0 0 0 0;\n",
              "      width: 32px;\n",
              "    }\n",
              "\n",
              "    .colab-df-convert:hover {\n",
              "      background-color: #E2EBFA;\n",
              "      box-shadow: 0px 1px 2px rgba(60, 64, 67, 0.3), 0px 1px 3px 1px rgba(60, 64, 67, 0.15);\n",
              "      fill: #174EA6;\n",
              "    }\n",
              "\n",
              "    .colab-df-buttons div {\n",
              "      margin-bottom: 4px;\n",
              "    }\n",
              "\n",
              "    [theme=dark] .colab-df-convert {\n",
              "      background-color: #3B4455;\n",
              "      fill: #D2E3FC;\n",
              "    }\n",
              "\n",
              "    [theme=dark] .colab-df-convert:hover {\n",
              "      background-color: #434B5C;\n",
              "      box-shadow: 0px 1px 3px 1px rgba(0, 0, 0, 0.15);\n",
              "      filter: drop-shadow(0px 1px 2px rgba(0, 0, 0, 0.3));\n",
              "      fill: #FFFFFF;\n",
              "    }\n",
              "  </style>\n",
              "\n",
              "    <script>\n",
              "      const buttonEl =\n",
              "        document.querySelector('#df-ca3771bf-c5d1-4f5c-b3d4-ec60060194f4 button.colab-df-convert');\n",
              "      buttonEl.style.display =\n",
              "        google.colab.kernel.accessAllowed ? 'block' : 'none';\n",
              "\n",
              "      async function convertToInteractive(key) {\n",
              "        const element = document.querySelector('#df-ca3771bf-c5d1-4f5c-b3d4-ec60060194f4');\n",
              "        const dataTable =\n",
              "          await google.colab.kernel.invokeFunction('convertToInteractive',\n",
              "                                                    [key], {});\n",
              "        if (!dataTable) return;\n",
              "\n",
              "        const docLinkHtml = 'Like what you see? Visit the ' +\n",
              "          '<a target=\"_blank\" href=https://colab.research.google.com/notebooks/data_table.ipynb>data table notebook</a>'\n",
              "          + ' to learn more about interactive tables.';\n",
              "        element.innerHTML = '';\n",
              "        dataTable['output_type'] = 'display_data';\n",
              "        await google.colab.output.renderOutput(dataTable, element);\n",
              "        const docLink = document.createElement('div');\n",
              "        docLink.innerHTML = docLinkHtml;\n",
              "        element.appendChild(docLink);\n",
              "      }\n",
              "    </script>\n",
              "  </div>\n",
              "\n",
              "\n",
              "<div id=\"df-32333555-7bf8-4066-af7c-b898dafb681b\">\n",
              "  <button class=\"colab-df-quickchart\" onclick=\"quickchart('df-32333555-7bf8-4066-af7c-b898dafb681b')\"\n",
              "            title=\"Suggest charts\"\n",
              "            style=\"display:none;\">\n",
              "\n",
              "<svg xmlns=\"http://www.w3.org/2000/svg\" height=\"24px\"viewBox=\"0 0 24 24\"\n",
              "     width=\"24px\">\n",
              "    <g>\n",
              "        <path d=\"M19 3H5c-1.1 0-2 .9-2 2v14c0 1.1.9 2 2 2h14c1.1 0 2-.9 2-2V5c0-1.1-.9-2-2-2zM9 17H7v-7h2v7zm4 0h-2V7h2v10zm4 0h-2v-4h2v4z\"/>\n",
              "    </g>\n",
              "</svg>\n",
              "  </button>\n",
              "\n",
              "<style>\n",
              "  .colab-df-quickchart {\n",
              "      --bg-color: #E8F0FE;\n",
              "      --fill-color: #1967D2;\n",
              "      --hover-bg-color: #E2EBFA;\n",
              "      --hover-fill-color: #174EA6;\n",
              "      --disabled-fill-color: #AAA;\n",
              "      --disabled-bg-color: #DDD;\n",
              "  }\n",
              "\n",
              "  [theme=dark] .colab-df-quickchart {\n",
              "      --bg-color: #3B4455;\n",
              "      --fill-color: #D2E3FC;\n",
              "      --hover-bg-color: #434B5C;\n",
              "      --hover-fill-color: #FFFFFF;\n",
              "      --disabled-bg-color: #3B4455;\n",
              "      --disabled-fill-color: #666;\n",
              "  }\n",
              "\n",
              "  .colab-df-quickchart {\n",
              "    background-color: var(--bg-color);\n",
              "    border: none;\n",
              "    border-radius: 50%;\n",
              "    cursor: pointer;\n",
              "    display: none;\n",
              "    fill: var(--fill-color);\n",
              "    height: 32px;\n",
              "    padding: 0;\n",
              "    width: 32px;\n",
              "  }\n",
              "\n",
              "  .colab-df-quickchart:hover {\n",
              "    background-color: var(--hover-bg-color);\n",
              "    box-shadow: 0 1px 2px rgba(60, 64, 67, 0.3), 0 1px 3px 1px rgba(60, 64, 67, 0.15);\n",
              "    fill: var(--button-hover-fill-color);\n",
              "  }\n",
              "\n",
              "  .colab-df-quickchart-complete:disabled,\n",
              "  .colab-df-quickchart-complete:disabled:hover {\n",
              "    background-color: var(--disabled-bg-color);\n",
              "    fill: var(--disabled-fill-color);\n",
              "    box-shadow: none;\n",
              "  }\n",
              "\n",
              "  .colab-df-spinner {\n",
              "    border: 2px solid var(--fill-color);\n",
              "    border-color: transparent;\n",
              "    border-bottom-color: var(--fill-color);\n",
              "    animation:\n",
              "      spin 1s steps(1) infinite;\n",
              "  }\n",
              "\n",
              "  @keyframes spin {\n",
              "    0% {\n",
              "      border-color: transparent;\n",
              "      border-bottom-color: var(--fill-color);\n",
              "      border-left-color: var(--fill-color);\n",
              "    }\n",
              "    20% {\n",
              "      border-color: transparent;\n",
              "      border-left-color: var(--fill-color);\n",
              "      border-top-color: var(--fill-color);\n",
              "    }\n",
              "    30% {\n",
              "      border-color: transparent;\n",
              "      border-left-color: var(--fill-color);\n",
              "      border-top-color: var(--fill-color);\n",
              "      border-right-color: var(--fill-color);\n",
              "    }\n",
              "    40% {\n",
              "      border-color: transparent;\n",
              "      border-right-color: var(--fill-color);\n",
              "      border-top-color: var(--fill-color);\n",
              "    }\n",
              "    60% {\n",
              "      border-color: transparent;\n",
              "      border-right-color: var(--fill-color);\n",
              "    }\n",
              "    80% {\n",
              "      border-color: transparent;\n",
              "      border-right-color: var(--fill-color);\n",
              "      border-bottom-color: var(--fill-color);\n",
              "    }\n",
              "    90% {\n",
              "      border-color: transparent;\n",
              "      border-bottom-color: var(--fill-color);\n",
              "    }\n",
              "  }\n",
              "</style>\n",
              "\n",
              "  <script>\n",
              "    async function quickchart(key) {\n",
              "      const quickchartButtonEl =\n",
              "        document.querySelector('#' + key + ' button');\n",
              "      quickchartButtonEl.disabled = true;  // To prevent multiple clicks.\n",
              "      quickchartButtonEl.classList.add('colab-df-spinner');\n",
              "      try {\n",
              "        const charts = await google.colab.kernel.invokeFunction(\n",
              "            'suggestCharts', [key], {});\n",
              "      } catch (error) {\n",
              "        console.error('Error during call to suggestCharts:', error);\n",
              "      }\n",
              "      quickchartButtonEl.classList.remove('colab-df-spinner');\n",
              "      quickchartButtonEl.classList.add('colab-df-quickchart-complete');\n",
              "    }\n",
              "    (() => {\n",
              "      let quickchartButtonEl =\n",
              "        document.querySelector('#df-32333555-7bf8-4066-af7c-b898dafb681b button');\n",
              "      quickchartButtonEl.style.display =\n",
              "        google.colab.kernel.accessAllowed ? 'block' : 'none';\n",
              "    })();\n",
              "  </script>\n",
              "</div>\n",
              "\n",
              "    </div>\n",
              "  </div>\n"
            ],
            "application/vnd.google.colaboratory.intrinsic+json": {
              "type": "dataframe",
              "summary": "{\n  \"name\": \"display(df\",\n  \"rows\": 5,\n  \"fields\": [\n    {\n      \"column\": \"N_pregnant\",\n      \"properties\": {\n        \"dtype\": \"number\",\n        \"std\": 3,\n        \"min\": 0,\n        \"max\": 8,\n        \"num_unique_values\": 4,\n        \"samples\": [\n          1,\n          0,\n          6\n        ],\n        \"semantic_type\": \"\",\n        \"description\": \"\"\n      }\n    },\n    {\n      \"column\": \"Plasma_glucose_test\",\n      \"properties\": {\n        \"dtype\": \"number\",\n        \"std\": 41,\n        \"min\": 85,\n        \"max\": 183,\n        \"num_unique_values\": 5,\n        \"samples\": [\n          85,\n          137,\n          183\n        ],\n        \"semantic_type\": \"\",\n        \"description\": \"\"\n      }\n    },\n    {\n      \"column\": \"Diastolic_blood_pressure\",\n      \"properties\": {\n        \"dtype\": \"number\",\n        \"std\": 12,\n        \"min\": 40,\n        \"max\": 72,\n        \"num_unique_values\": 4,\n        \"samples\": [\n          66,\n          40,\n          72\n        ],\n        \"semantic_type\": \"\",\n        \"description\": \"\"\n      }\n    },\n    {\n      \"column\": \"Triceps_skin_mm\",\n      \"properties\": {\n        \"dtype\": \"number\",\n        \"std\": 14,\n        \"min\": 0,\n        \"max\": 35,\n        \"num_unique_values\": 4,\n        \"samples\": [\n          29,\n          23,\n          35\n        ],\n        \"semantic_type\": \"\",\n        \"description\": \"\"\n      }\n    },\n    {\n      \"column\": \"Insulin_test\",\n      \"properties\": {\n        \"dtype\": \"number\",\n        \"std\": 76,\n        \"min\": 0,\n        \"max\": 168,\n        \"num_unique_values\": 3,\n        \"samples\": [\n          0,\n          94,\n          168\n        ],\n        \"semantic_type\": \"\",\n        \"description\": \"\"\n      }\n    },\n    {\n      \"column\": \"IMC\",\n      \"properties\": {\n        \"dtype\": \"number\",\n        \"std\": 7.749387072536769,\n        \"min\": 23.3,\n        \"max\": 43.1,\n        \"num_unique_values\": 5,\n        \"samples\": [\n          26.6,\n          43.1,\n          23.3\n        ],\n        \"semantic_type\": \"\",\n        \"description\": \"\"\n      }\n    },\n    {\n      \"column\": \"Diabetes_pedigree\",\n      \"properties\": {\n        \"dtype\": \"number\",\n        \"std\": 0.8456568452983751,\n        \"min\": 0.167,\n        \"max\": 2.288,\n        \"num_unique_values\": 5,\n        \"samples\": [\n          0.351,\n          2.288,\n          0.672\n        ],\n        \"semantic_type\": \"\",\n        \"description\": \"\"\n      }\n    },\n    {\n      \"column\": \"Age\",\n      \"properties\": {\n        \"dtype\": \"number\",\n        \"std\": 10,\n        \"min\": 21,\n        \"max\": 50,\n        \"num_unique_values\": 5,\n        \"samples\": [\n          31,\n          33,\n          32\n        ],\n        \"semantic_type\": \"\",\n        \"description\": \"\"\n      }\n    },\n    {\n      \"column\": \"Class_variable\",\n      \"properties\": {\n        \"dtype\": \"number\",\n        \"std\": 0,\n        \"min\": 0,\n        \"max\": 1,\n        \"num_unique_values\": 2,\n        \"samples\": [\n          0,\n          1\n        ],\n        \"semantic_type\": \"\",\n        \"description\": \"\"\n      }\n    }\n  ]\n}"
            }
          },
          "metadata": {}
        }
      ]
    },
    {
      "cell_type": "markdown",
      "source": [
        "#1. Defina el modelo de Keras."
      ],
      "metadata": {
        "id": "mumhtisgKtCD"
      }
    },
    {
      "cell_type": "code",
      "source": [
        "#Primero separo las variables independientes (x) y dependientes (y) tomando de base la columna \"Class_variable\"\n",
        "#Ya que esa es nuestra variable respuesta (dependiente) sobre la detección de diabetes y las demás son variables independientes\n",
        "X = df.drop(\"Class_variable\", axis=1)\n",
        "y = df[\"Class_variable\"]\n",
        "\n",
        "#Divido los datos de entrenamiento y los de test\n",
        "X_train, X_test, y_train, y_test = train_test_split(X, y, test_size=0.2, random_state=42)\n",
        "\n",
        "#Ejecuto la estandarización sobre mis datos de entrenamiento y de testeo\n",
        "standar = StandardScaler()\n",
        "X_train_st = standar.fit_transform(X_train)\n",
        "X_test_st = standar.transform(X_test)\n",
        "\n",
        "#Defino el modelo utilizando el modelo secuencial de keras\n",
        "model = models.Sequential([\n",
        "    #Aplico la capa \"Dense\" para la creación de redes neuronales\n",
        "    #Utilizo la función \"relu\" para que el entrenar al modelo con relaciones no lineales\n",
        "    layers.Dense(64, activation='relu', input_shape=(X_train_st.shape[1],)),\n",
        "    layers.Dense(32, activation='relu'),\n",
        "    #En esta última capa se genera 1 unidad neuronal con la función \"sigmoid\" para crear una salida binaria (0/1) que genere la probabilidad del modelo\n",
        "    layers.Dense(1, activation='sigmoid')\n",
        "])\n"
      ],
      "metadata": {
        "id": "LC2iB7k4D1sG"
      },
      "execution_count": 24,
      "outputs": []
    },
    {
      "cell_type": "markdown",
      "source": [
        "#2. Compile el modelo de Keras."
      ],
      "metadata": {
        "id": "1vc0Zf2ZKyS6"
      }
    },
    {
      "cell_type": "code",
      "source": [
        "#Para compilar el modelo utilizo el método compile() de keras\n",
        "#Aplico el optimizador adam para el entrenamiento del modelo durante su ejecución\n",
        "#Uyilizo loss=\"binary_crossentropy\" para evaluar la pérdida en nuestro modelo que tiene una clasificación binaria\n",
        "#Además, incluyo la metrica accuracy para evaluar el modelo ya que calcula la proporción de predicciones correctas del modelo\n",
        "model.compile(optimizer='adam', loss='binary_crossentropy', metrics=['accuracy'])"
      ],
      "metadata": {
        "id": "RFGPJ93LLMPu"
      },
      "execution_count": 25,
      "outputs": []
    },
    {
      "cell_type": "markdown",
      "source": [
        "#3. Compatible con el modelo Keras."
      ],
      "metadata": {
        "id": "LTiCAAE8K1ym"
      }
    },
    {
      "cell_type": "code",
      "source": [
        "#Se asume que este apartado del ejercicio se refiere a entrenar el modelo\n",
        "#Por lo tanto, utilizo el método fit() sobre las variables de entrenamiento (x, y) que toma los datos de entrenamiento y ajusta el modelo\n",
        "#epochs define las iteraciones del entrenamiento que para este ejemplo serán 10\n",
        "#batch_size son el número de muestras de entrenamiento utilizadas pra cada iteración\n",
        "#verbose=0 signfica que no se mostrarpa información de progreso del entrenamiento durante su ejecución\n",
        "model.fit(X_train_st, y_train, epochs=10, batch_size=32, verbose=0)"
      ],
      "metadata": {
        "colab": {
          "base_uri": "https://localhost:8080/"
        },
        "id": "wIFROiUYD1l-",
        "outputId": "c180ab18-b40c-440a-c508-d5cff1a2fe67"
      },
      "execution_count": 26,
      "outputs": [
        {
          "output_type": "execute_result",
          "data": {
            "text/plain": [
              "<keras.src.callbacks.History at 0x7dee7c3febc0>"
            ]
          },
          "metadata": {},
          "execution_count": 26
        }
      ]
    },
    {
      "cell_type": "markdown",
      "source": [
        "#4. Evalúe el modelo de Keras."
      ],
      "metadata": {
        "id": "cMCuHnJVK4GF"
      }
    },
    {
      "cell_type": "code",
      "source": [
        "#Para evaluar el modelo llamo los valores de pérdida y precisión del modelo\n",
        "#model.evaluate() es el metodo para evaluar rendimiento del modelo testeado\n",
        "loss, accuracy = model.evaluate(X_test_st, y_test)"
      ],
      "metadata": {
        "colab": {
          "base_uri": "https://localhost:8080/"
        },
        "id": "0y7I_oFoD1hR",
        "outputId": "6597e067-fd33-4d16-82e4-8b4586cd25c1"
      },
      "execution_count": 29,
      "outputs": [
        {
          "output_type": "stream",
          "name": "stdout",
          "text": [
            "5/5 [==============================] - 0s 3ms/step - loss: 0.5250 - accuracy: 0.7532\n"
          ]
        }
      ]
    },
    {
      "cell_type": "markdown",
      "source": [
        "#5. Juntelo todo junto."
      ],
      "metadata": {
        "id": "233vv8WbK537"
      }
    },
    {
      "cell_type": "code",
      "source": [
        "#Ejercicio 1: Defina el modelo de Keras\n",
        "model = models.Sequential([\n",
        "    layers.Dense(64, activation='relu', input_shape=(X_train_st.shape[1],)),\n",
        "    layers.Dense(32, activation='relu'),\n",
        "    layers.Dense(1, activation='sigmoid')\n",
        "])\n",
        "\n",
        "#Ejercicio 2: Compile el modelo de Keras\n",
        "model.compile(optimizer='adam', loss='binary_crossentropy', metrics=['accuracy'])\n",
        "\n",
        "#Ejercicio 3: Compatible el modelo\n",
        "model.fit(X_train_st, y_train, epochs=10, batch_size=32, verbose=0)\n",
        "\n",
        "#Ejercicio 4: Evaluar con el modelo keras\n",
        "loss, accuracy = model.evaluate(X_test_st, y_test)\n",
        "#Imrprimo los resultados de la evaluación del rendimiento del modelo\n",
        "print(f\"La pérdida  del modelo sobre los datos testeados es: {loss}\")\n",
        "print(f\"La precisión  del modelo sobre los datos testeados es: {accuracy}\")"
      ],
      "metadata": {
        "colab": {
          "base_uri": "https://localhost:8080/"
        },
        "id": "sKs4l4lZK7eK",
        "outputId": "6c5e8586-5688-4b76-9bf9-fbd3d4f6f662"
      },
      "execution_count": 36,
      "outputs": [
        {
          "output_type": "stream",
          "name": "stdout",
          "text": [
            "5/5 [==============================] - 0s 5ms/step - loss: 0.5197 - accuracy: 0.7468\n",
            "La pérdida  del modelo sobre los datos testeados es: 0.5197280049324036\n",
            "La precisión  del modelo sobre los datos testeados es: 0.7467532753944397\n"
          ]
        }
      ]
    },
    {
      "cell_type": "markdown",
      "source": [
        "#6. Hacer predicciones y conclusiones."
      ],
      "metadata": {
        "id": "i23ZcYMpK7x9"
      }
    },
    {
      "cell_type": "code",
      "source": [
        "#Creo la predictions para almacenar las predicciones sobre el modelo entrenado (X_test_st)\n",
        "#predictions = model.predict(X_test_st)\n",
        "\n",
        "#Para el analisis de los resultados evaluaré las primeras 10 predicciones\n",
        "predictions = model.predict(X_test_st[:10])\n",
        "\n",
        "#Finalmente imprimo las primeras 10 predicciones calculadas\n",
        "print(\"Primeras 10 predicciones del modelo entrenado (X_test_st):\")\n",
        "#itero sobre cada predicción obtenida del modelo y las imprimo\n",
        "for i, prediction in enumerate(predictions):\n",
        "    print(f\"Predicción {i+1}: {prediction}\")\n"
      ],
      "metadata": {
        "colab": {
          "base_uri": "https://localhost:8080/"
        },
        "id": "30QSNmuoK81s",
        "outputId": "fb2da7a4-0883-46dd-962b-cce32c2490de"
      },
      "execution_count": 35,
      "outputs": [
        {
          "output_type": "stream",
          "name": "stdout",
          "text": [
            "1/1 [==============================] - 0s 20ms/step\n",
            "Primeras 10 predicciones del modelo entrenado (X_test_st):\n",
            "Predicción 1: [0.38639787]\n",
            "Predicción 2: [0.09215865]\n",
            "Predicción 3: [0.06385956]\n",
            "Predicción 4: [0.30238536]\n",
            "Predicción 5: [0.478186]\n",
            "Predicción 6: [0.52474105]\n",
            "Predicción 7: [0.00903977]\n",
            "Predicción 8: [0.5709122]\n",
            "Predicción 9: [0.70320576]\n",
            "Predicción 10: [0.61256295]\n"
          ]
        }
      ]
    },
    {
      "cell_type": "markdown",
      "source": [
        "El hecho que la pérdida del modelo sea relativamente alta (> 0.5) sugiere que el modelo no ajusta totalmente bien los datos testeados. Aun así, el resultado de precisión (> 0,7) indica que el modelo clasifica correctamente las muestras en los datos de prueba, aunque aun puede mejorarse para obtener una precisión más alta.\n",
        "\n",
        "Por su parte, las 10 primeras predicciones obtenidas muestran la probabilidad de que el resultado sea positivo, por lo tanto es posible ver que por ejemplo la primera predicción sugiere que el modelo estima que existe aproximadamente un 38% de probabilidad que el resultado sea positivo, mientras que la segunda predicción tan solo un 9%, y así sucesivamente.\n",
        "\n",
        "En conclusión,el modelo requiere mayores ajustes para otener un rendimiento mejor y predecir de mejor forma los resultados de entrenamiento."
      ],
      "metadata": {
        "id": "JsvK9rCqXG8i"
      }
    }
  ]
}